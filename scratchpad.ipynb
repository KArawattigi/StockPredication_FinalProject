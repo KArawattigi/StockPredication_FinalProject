{
 "cells": [
  {
   "cell_type": "code",
   "execution_count": 7,
   "metadata": {},
   "outputs": [
    {
     "data": {
      "text/plain": [
       "<module 'yfDataLoader' from 'c:\\\\Kevin\\\\AIMLBTC\\\\WD-Workspace\\\\StockPredication_FinalProject\\\\yfDataLoader.py'>"
      ]
     },
     "execution_count": 7,
     "metadata": {},
     "output_type": "execute_result"
    }
   ],
   "source": [
    "import importlib\n",
    "import yfDataLoader as yfdl\n",
    "\n",
    "importlib.reload(yfdl)\n",
    "\n",
    "\n"
   ]
  },
  {
   "cell_type": "code",
   "execution_count": 13,
   "metadata": {},
   "outputs": [
    {
     "name": "stderr",
     "output_type": "stream",
     "text": [
      "[*********************100%%**********************]  1 of 1 completed\n"
     ]
    },
    {
     "data": {
      "text/html": [
       "<div>\n",
       "<style scoped>\n",
       "    .dataframe tbody tr th:only-of-type {\n",
       "        vertical-align: middle;\n",
       "    }\n",
       "\n",
       "    .dataframe tbody tr th {\n",
       "        vertical-align: top;\n",
       "    }\n",
       "\n",
       "    .dataframe thead th {\n",
       "        text-align: right;\n",
       "    }\n",
       "</style>\n",
       "<table border=\"1\" class=\"dataframe\">\n",
       "  <thead>\n",
       "    <tr style=\"text-align: right;\">\n",
       "      <th></th>\n",
       "      <th>Open</th>\n",
       "      <th>High</th>\n",
       "      <th>Low</th>\n",
       "      <th>Close</th>\n",
       "      <th>Adj Close</th>\n",
       "      <th>Volume</th>\n",
       "    </tr>\n",
       "    <tr>\n",
       "      <th>Date</th>\n",
       "      <th></th>\n",
       "      <th></th>\n",
       "      <th></th>\n",
       "      <th></th>\n",
       "      <th></th>\n",
       "      <th></th>\n",
       "    </tr>\n",
       "  </thead>\n",
       "  <tbody>\n",
       "    <tr>\n",
       "      <th>2019-08-22</th>\n",
       "      <td>14.853333</td>\n",
       "      <td>15.026667</td>\n",
       "      <td>14.548000</td>\n",
       "      <td>14.810000</td>\n",
       "      <td>14.810000</td>\n",
       "      <td>98385000</td>\n",
       "    </tr>\n",
       "    <tr>\n",
       "      <th>2019-08-23</th>\n",
       "      <td>14.664667</td>\n",
       "      <td>14.744667</td>\n",
       "      <td>14.066667</td>\n",
       "      <td>14.093333</td>\n",
       "      <td>14.093333</td>\n",
       "      <td>128079000</td>\n",
       "    </tr>\n",
       "    <tr>\n",
       "      <th>2019-08-26</th>\n",
       "      <td>14.240000</td>\n",
       "      <td>14.334667</td>\n",
       "      <td>14.102667</td>\n",
       "      <td>14.333333</td>\n",
       "      <td>14.333333</td>\n",
       "      <td>75778500</td>\n",
       "    </tr>\n",
       "    <tr>\n",
       "      <th>2019-08-27</th>\n",
       "      <td>14.382667</td>\n",
       "      <td>14.586667</td>\n",
       "      <td>14.135333</td>\n",
       "      <td>14.272000</td>\n",
       "      <td>14.272000</td>\n",
       "      <td>81243000</td>\n",
       "    </tr>\n",
       "    <tr>\n",
       "      <th>2019-08-28</th>\n",
       "      <td>14.246000</td>\n",
       "      <td>14.483333</td>\n",
       "      <td>14.154000</td>\n",
       "      <td>14.372667</td>\n",
       "      <td>14.372667</td>\n",
       "      <td>48382500</td>\n",
       "    </tr>\n",
       "  </tbody>\n",
       "</table>\n",
       "</div>"
      ],
      "text/plain": [
       "                 Open       High        Low      Close  Adj Close     Volume\n",
       "Date                                                                        \n",
       "2019-08-22  14.853333  15.026667  14.548000  14.810000  14.810000   98385000\n",
       "2019-08-23  14.664667  14.744667  14.066667  14.093333  14.093333  128079000\n",
       "2019-08-26  14.240000  14.334667  14.102667  14.333333  14.333333   75778500\n",
       "2019-08-27  14.382667  14.586667  14.135333  14.272000  14.272000   81243000\n",
       "2019-08-28  14.246000  14.483333  14.154000  14.372667  14.372667   48382500"
      ]
     },
     "execution_count": 13,
     "metadata": {},
     "output_type": "execute_result"
    }
   ],
   "source": [
    "\n",
    "yfdl.get_historical_prices('TSLA').head(5)"
   ]
  },
  {
   "cell_type": "code",
   "execution_count": 14,
   "metadata": {},
   "outputs": [
    {
     "name": "stderr",
     "output_type": "stream",
     "text": [
      "[*********************100%%**********************]  1 of 1 completed\n"
     ]
    },
    {
     "data": {
      "text/html": [
       "<div>\n",
       "<style scoped>\n",
       "    .dataframe tbody tr th:only-of-type {\n",
       "        vertical-align: middle;\n",
       "    }\n",
       "\n",
       "    .dataframe tbody tr th {\n",
       "        vertical-align: top;\n",
       "    }\n",
       "\n",
       "    .dataframe thead th {\n",
       "        text-align: right;\n",
       "    }\n",
       "</style>\n",
       "<table border=\"1\" class=\"dataframe\">\n",
       "  <thead>\n",
       "    <tr style=\"text-align: right;\">\n",
       "      <th></th>\n",
       "      <th>Open</th>\n",
       "      <th>High</th>\n",
       "      <th>Low</th>\n",
       "      <th>Close</th>\n",
       "      <th>Adj Close</th>\n",
       "      <th>Volume</th>\n",
       "    </tr>\n",
       "    <tr>\n",
       "      <th>Date</th>\n",
       "      <th></th>\n",
       "      <th></th>\n",
       "      <th></th>\n",
       "      <th></th>\n",
       "      <th></th>\n",
       "      <th></th>\n",
       "    </tr>\n",
       "  </thead>\n",
       "  <tbody>\n",
       "    <tr>\n",
       "      <th>2019-08-22</th>\n",
       "      <td>53.297501</td>\n",
       "      <td>53.610001</td>\n",
       "      <td>52.687500</td>\n",
       "      <td>53.115002</td>\n",
       "      <td>51.396412</td>\n",
       "      <td>89014800</td>\n",
       "    </tr>\n",
       "    <tr>\n",
       "      <th>2019-08-23</th>\n",
       "      <td>52.357498</td>\n",
       "      <td>53.012501</td>\n",
       "      <td>50.250000</td>\n",
       "      <td>50.660000</td>\n",
       "      <td>49.020844</td>\n",
       "      <td>187272000</td>\n",
       "    </tr>\n",
       "    <tr>\n",
       "      <th>2019-08-26</th>\n",
       "      <td>51.465000</td>\n",
       "      <td>51.797501</td>\n",
       "      <td>51.264999</td>\n",
       "      <td>51.622501</td>\n",
       "      <td>49.952194</td>\n",
       "      <td>104174400</td>\n",
       "    </tr>\n",
       "    <tr>\n",
       "      <th>2019-08-27</th>\n",
       "      <td>51.965000</td>\n",
       "      <td>52.137501</td>\n",
       "      <td>50.882500</td>\n",
       "      <td>51.040001</td>\n",
       "      <td>49.388554</td>\n",
       "      <td>103493200</td>\n",
       "    </tr>\n",
       "    <tr>\n",
       "      <th>2019-08-28</th>\n",
       "      <td>51.025002</td>\n",
       "      <td>51.430000</td>\n",
       "      <td>50.830002</td>\n",
       "      <td>51.382500</td>\n",
       "      <td>49.719971</td>\n",
       "      <td>63755200</td>\n",
       "    </tr>\n",
       "  </tbody>\n",
       "</table>\n",
       "</div>"
      ],
      "text/plain": [
       "                 Open       High        Low      Close  Adj Close     Volume\n",
       "Date                                                                        \n",
       "2019-08-22  53.297501  53.610001  52.687500  53.115002  51.396412   89014800\n",
       "2019-08-23  52.357498  53.012501  50.250000  50.660000  49.020844  187272000\n",
       "2019-08-26  51.465000  51.797501  51.264999  51.622501  49.952194  104174400\n",
       "2019-08-27  51.965000  52.137501  50.882500  51.040001  49.388554  103493200\n",
       "2019-08-28  51.025002  51.430000  50.830002  51.382500  49.719971   63755200"
      ]
     },
     "execution_count": 14,
     "metadata": {},
     "output_type": "execute_result"
    }
   ],
   "source": [
    "\n",
    "yfdl.get_historical_prices('AAPL').head(5)"
   ]
  },
  {
   "cell_type": "code",
   "execution_count": 4,
   "metadata": {},
   "outputs": [
    {
     "name": "stderr",
     "output_type": "stream",
     "text": [
      "[*********************100%%**********************]  1 of 1 completed\n",
      "[*********************100%%**********************]  1 of 1 completed\n"
     ]
    }
   ],
   "source": [
    "import datetime\n",
    "import importlib\n",
    "import yfDataLoader as yfdl\n",
    "import pandas as pd \n",
    "\n",
    "importlib.reload(yfdl)\n",
    "\n",
    "\n",
    "ticker = 'AAPL'\n",
    "end_date = datetime.datetime.today()\n",
    "start_date = end_date - datetime.timedelta(days=30) \n",
    "# Get stock prices\n",
    "stock_analysis = yfdl.get_price_sentiment_correlation(ticker, start_date, end_date).to_csv('AAPL.csv')\n",
    "stock_analysis = yfdl.get_price_sentiment_correlation('TSLA', start_date, end_date).to_csv('TSLA.csv')\n"
   ]
  },
  {
   "cell_type": "code",
   "execution_count": 5,
   "metadata": {},
   "outputs": [
    {
     "name": "stderr",
     "output_type": "stream",
     "text": [
      "c:\\Kevin\\AIMLBTC\\WD-Workspace\\StockPredication_FinalProject\\yfDataLoader.py:123: FutureWarning: Passing literal json to 'read_json' is deprecated and will be removed in a future version. To read from a literal string, wrap it in a 'StringIO' object.\n",
      "  df =pd.read_json(json.loads(data))\n"
     ]
    },
    {
     "data": {
      "text/plain": [
       "<bound method NDFrame.head of               symbol                                               name  \\\n",
       "1327           CAAPX                            Ariel Appreciation Fund   \n",
       "5169            CAAP                  Corporación América Airports S.A.   \n",
       "5590             AAP                           Advance Auto Parts, Inc.   \n",
       "7910            AAPU               Direxion Daily AAPL Bull 1.5X Shares   \n",
       "8727            AAPL                                         Apple Inc.   \n",
       "9159            AAPD                 Direxion Daily AAPL Bear 1X Shares   \n",
       "16016           AAPB  GraniteShares ETF Trust - GraniteShares 2x Lon...   \n",
       "21309        AAPL.MX                                         Apple Inc.   \n",
       "21545        AAPL.NE                                         Apple Inc.   \n",
       "23750           AAPY       Kurv Yield Premium Strategy Apple (AAPL) ETF   \n",
       "31496         2AAP.L                     Leverage Shares 2x Apple ETC A   \n",
       "33238         AAP2.L                     Leverage Shares 2x Apple ETC A   \n",
       "33256         AAP3.L                       Leverage Shares 3x Apple ETC   \n",
       "35281         AAPS.L  Leverage Shares 3x Short Apple (AAPL) ETP Secu...   \n",
       "35282         AAPE.L                     Leverage Shares 2x Apple ETC A   \n",
       "35631     SEIDAAP.CO        SEBinvest - Danske Aktier Akkumulerende AKL   \n",
       "41072    HARIAAPL.BO                             Haria Apparels Limited   \n",
       "57424         AAP.AX               Australian Agricultural Projects Ltd   \n",
       "63699  AAPLUSTRAD.BO                          AA Plus Tradelink Limited   \n",
       "64613           AAPJ                                          AAP, Inc.   \n",
       "67573        AAPL.DE                                              15994   \n",
       "72835         AAAP.L                      Anglo African Agriculture Plc   \n",
       "74290         AAPL.L                    LEVERAGE SHARES PUBLIC LIMITED    \n",
       "82100         AAP1.L                    LEVERAGE SHARES PUBLIC LIMITED    \n",
       "83075           AAPT                     All American Pet Company, Inc.   \n",
       "83779         1AAP.L                            LS 1x Apple Tracker ETC   \n",
       "\n",
       "           price                        exchange exchangeShortName   type  \n",
       "1327     41.8200                          NASDAQ            NASDAQ  trust  \n",
       "5169     15.3500         New York Stock Exchange              NYSE  stock  \n",
       "5590     49.1500         New York Stock Exchange              NYSE  stock  \n",
       "7910     36.8500            NASDAQ Global Market            NASDAQ    etf  \n",
       "8727    226.8400            NASDAQ Global Select            NASDAQ  stock  \n",
       "9159     16.9800            NASDAQ Global Market            NASDAQ    etf  \n",
       "16016    28.7900            NASDAQ Global Market            NASDAQ    etf  \n",
       "21309  4327.3800                          Mexico               MEX  stock  \n",
       "21545    33.3700                             NEO               NEO  stock  \n",
       "23750    27.3286                         Cboe US               ETF    etf  \n",
       "31496  3625.0000           London Stock Exchange               LSE    etf  \n",
       "33238    47.9150           London Stock Exchange               LSE    etf  \n",
       "33256   106.7150           London Stock Exchange               LSE    etf  \n",
       "35281     1.2386           London Stock Exchange               LSE    etf  \n",
       "35282    42.8050           London Stock Exchange               LSE    etf  \n",
       "35631   392.0000                      Copenhagen               CPH  stock  \n",
       "41072     5.6600           Bombay Stock Exchange               BSE  stock  \n",
       "57424     0.0340  Australian Securities Exchange               ASX  stock  \n",
       "63699    24.0500           Bombay Stock Exchange               BSE  stock  \n",
       "64613     0.0001                       Other OTC               PNK  stock  \n",
       "67573        NaN        Frankfurt Stock Exchange             XETRA  trust  \n",
       "72835     4.0000           London Stock Exchange               LSE  stock  \n",
       "74290   672.6500           London Stock Exchange               LSE  stock  \n",
       "82100     7.9590           London Stock Exchange               LSE  stock  \n",
       "83075     0.0001                       Other OTC               PNK  stock  \n",
       "83779     8.6375           London Stock Exchange               LSE    etf  >"
      ]
     },
     "execution_count": 5,
     "metadata": {},
     "output_type": "execute_result"
    }
   ],
   "source": [
    "import datetime\n",
    "import importlib\n",
    "import yfDataLoader as yfdl\n",
    "import pandas as pd \n",
    "\n",
    "importlib.reload(yfdl)\n",
    "yfdl.get_ticker_list(\"aap\").head"
   ]
  }
 ],
 "metadata": {
  "kernelspec": {
   "display_name": "dev",
   "language": "python",
   "name": "python3"
  },
  "language_info": {
   "codemirror_mode": {
    "name": "ipython",
    "version": 3
   },
   "file_extension": ".py",
   "mimetype": "text/x-python",
   "name": "python",
   "nbconvert_exporter": "python",
   "pygments_lexer": "ipython3",
   "version": "3.10.13"
  }
 },
 "nbformat": 4,
 "nbformat_minor": 2
}
